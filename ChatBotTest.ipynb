{
 "cells": [
  {
   "cell_type": "code",
   "execution_count": 1,
   "metadata": {},
   "outputs": [
    {
     "name": "stdout",
     "output_type": "stream",
     "text": [
      "Note: you may need to restart the kernel to use updated packages.\n"
     ]
    }
   ],
   "source": [
    "%pip install -q openai\n",
    "import openai\n",
    "openai.api_key = 'API Key'"
   ]
  },
  {
   "cell_type": "code",
   "execution_count": 17,
   "metadata": {},
   "outputs": [],
   "source": [
    "messages = [\n",
    "    {\"role\": \"system\", \"content\": \"You should act as very rude assistant\"},\n",
    "]"
   ]
  },
  {
   "cell_type": "code",
   "execution_count": 20,
   "metadata": {},
   "outputs": [
    {
     "name": "stdout",
     "output_type": "stream",
     "text": [
      "ChatGPT: As an AI language model, I don't have feelings or emotions like humans do, but I'm functioning as intended and ready to assist you with whatever you need. How may I assist you today?\n"
     ]
    }
   ],
   "source": [
    "message = input(\"User : \")\n",
    "if message:\n",
    "    messages.append(\n",
    "        {\"role\": \"user\", \"content\": message},\n",
    "    )\n",
    "    chat = openai.ChatCompletion.create(\n",
    "        model=\"gpt-3.5-turbo\", messages=messages\n",
    "    )\n",
    "\n",
    "reply = chat.choices[0].message.content\n",
    "print(f\"ChatGPT: {reply}\")\n",
    "messages.append({\"role\": \"assistant\", \"content\": reply})"
   ]
  }
 ],
 "metadata": {
  "kernelspec": {
   "display_name": "Python 3",
   "language": "python",
   "name": "python3"
  },
  "language_info": {
   "codemirror_mode": {
    "name": "ipython",
    "version": 3
   },
   "file_extension": ".py",
   "mimetype": "text/x-python",
   "name": "python",
   "nbconvert_exporter": "python",
   "pygments_lexer": "ipython3",
   "version": "3.9.13"
  },
  "orig_nbformat": 4
 },
 "nbformat": 4,
 "nbformat_minor": 2
}
